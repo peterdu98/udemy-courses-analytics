{
 "cells": [
  {
   "cell_type": "markdown",
   "metadata": {},
   "source": [
    "# Libraries"
   ]
  },
  {
   "cell_type": "code",
   "execution_count": 106,
   "metadata": {},
   "outputs": [],
   "source": [
    "import pandas as pd\n",
    "import numpy as np\n",
    "\n",
    "import importlib as imp\n",
    "\n",
    "import matplotlib.pyplot as plt"
   ]
  },
  {
   "cell_type": "markdown",
   "metadata": {
    "heading_collapsed": true
   },
   "source": [
    "# Read data"
   ]
  },
  {
   "cell_type": "code",
   "execution_count": 618,
   "metadata": {
    "hidden": true
   },
   "outputs": [
    {
     "data": {
      "text/html": [
       "<div>\n",
       "<style scoped>\n",
       "    .dataframe tbody tr th:only-of-type {\n",
       "        vertical-align: middle;\n",
       "    }\n",
       "\n",
       "    .dataframe tbody tr th {\n",
       "        vertical-align: top;\n",
       "    }\n",
       "\n",
       "    .dataframe thead th {\n",
       "        text-align: right;\n",
       "    }\n",
       "</style>\n",
       "<table border=\"1\" class=\"dataframe\">\n",
       "  <thead>\n",
       "    <tr style=\"text-align: right;\">\n",
       "      <th></th>\n",
       "      <th>course_id</th>\n",
       "      <th>course_title</th>\n",
       "      <th>url</th>\n",
       "      <th>is_paid</th>\n",
       "      <th>price</th>\n",
       "      <th>num_subscribers</th>\n",
       "      <th>num_reviews</th>\n",
       "      <th>num_lectures</th>\n",
       "      <th>level</th>\n",
       "      <th>content_duration</th>\n",
       "      <th>published_timestamp</th>\n",
       "      <th>subject</th>\n",
       "    </tr>\n",
       "  </thead>\n",
       "  <tbody>\n",
       "    <tr>\n",
       "      <th>0</th>\n",
       "      <td>1070968</td>\n",
       "      <td>Ultimate Investment Banking Course</td>\n",
       "      <td>https://www.udemy.com/ultimate-investment-bank...</td>\n",
       "      <td>True</td>\n",
       "      <td>200</td>\n",
       "      <td>2147</td>\n",
       "      <td>23</td>\n",
       "      <td>51</td>\n",
       "      <td>All Levels</td>\n",
       "      <td>1.5 hours</td>\n",
       "      <td>2017-01-18T20:58:58Z</td>\n",
       "      <td>Business Finance</td>\n",
       "    </tr>\n",
       "    <tr>\n",
       "      <th>1</th>\n",
       "      <td>1113822</td>\n",
       "      <td>Complete GST Course &amp; Certification - Grow You...</td>\n",
       "      <td>https://www.udemy.com/goods-and-services-tax/</td>\n",
       "      <td>True</td>\n",
       "      <td>75</td>\n",
       "      <td>2792</td>\n",
       "      <td>923</td>\n",
       "      <td>274</td>\n",
       "      <td>All Levels</td>\n",
       "      <td>39 hours</td>\n",
       "      <td>2017-03-09T16:34:20Z</td>\n",
       "      <td>Business Finance</td>\n",
       "    </tr>\n",
       "    <tr>\n",
       "      <th>2</th>\n",
       "      <td>1006314</td>\n",
       "      <td>Financial Modeling for Business Analysts and C...</td>\n",
       "      <td>https://www.udemy.com/financial-modeling-for-b...</td>\n",
       "      <td>True</td>\n",
       "      <td>45</td>\n",
       "      <td>2174</td>\n",
       "      <td>74</td>\n",
       "      <td>51</td>\n",
       "      <td>Intermediate Level</td>\n",
       "      <td>2.5 hours</td>\n",
       "      <td>2016-12-19T19:26:30Z</td>\n",
       "      <td>Business Finance</td>\n",
       "    </tr>\n",
       "    <tr>\n",
       "      <th>3</th>\n",
       "      <td>1210588</td>\n",
       "      <td>Beginner to Pro - Financial Analysis in Excel ...</td>\n",
       "      <td>https://www.udemy.com/complete-excel-finance-c...</td>\n",
       "      <td>True</td>\n",
       "      <td>95</td>\n",
       "      <td>2451</td>\n",
       "      <td>11</td>\n",
       "      <td>36</td>\n",
       "      <td>All Levels</td>\n",
       "      <td>3 hours</td>\n",
       "      <td>2017-05-30T20:07:24Z</td>\n",
       "      <td>Business Finance</td>\n",
       "    </tr>\n",
       "    <tr>\n",
       "      <th>4</th>\n",
       "      <td>1011058</td>\n",
       "      <td>How To Maximize Your Profits Trading Options</td>\n",
       "      <td>https://www.udemy.com/how-to-maximize-your-pro...</td>\n",
       "      <td>True</td>\n",
       "      <td>200</td>\n",
       "      <td>1276</td>\n",
       "      <td>45</td>\n",
       "      <td>26</td>\n",
       "      <td>Intermediate Level</td>\n",
       "      <td>2 hours</td>\n",
       "      <td>2016-12-13T14:57:18Z</td>\n",
       "      <td>Business Finance</td>\n",
       "    </tr>\n",
       "  </tbody>\n",
       "</table>\n",
       "</div>"
      ],
      "text/plain": [
       "   course_id                                       course_title  \\\n",
       "0    1070968                 Ultimate Investment Banking Course   \n",
       "1    1113822  Complete GST Course & Certification - Grow You...   \n",
       "2    1006314  Financial Modeling for Business Analysts and C...   \n",
       "3    1210588  Beginner to Pro - Financial Analysis in Excel ...   \n",
       "4    1011058       How To Maximize Your Profits Trading Options   \n",
       "\n",
       "                                                 url is_paid price  \\\n",
       "0  https://www.udemy.com/ultimate-investment-bank...    True   200   \n",
       "1      https://www.udemy.com/goods-and-services-tax/    True    75   \n",
       "2  https://www.udemy.com/financial-modeling-for-b...    True    45   \n",
       "3  https://www.udemy.com/complete-excel-finance-c...    True    95   \n",
       "4  https://www.udemy.com/how-to-maximize-your-pro...    True   200   \n",
       "\n",
       "   num_subscribers  num_reviews  num_lectures               level  \\\n",
       "0             2147           23            51          All Levels   \n",
       "1             2792          923           274          All Levels   \n",
       "2             2174           74            51  Intermediate Level   \n",
       "3             2451           11            36          All Levels   \n",
       "4             1276           45            26  Intermediate Level   \n",
       "\n",
       "  content_duration   published_timestamp           subject  \n",
       "0        1.5 hours  2017-01-18T20:58:58Z  Business Finance  \n",
       "1         39 hours  2017-03-09T16:34:20Z  Business Finance  \n",
       "2        2.5 hours  2016-12-19T19:26:30Z  Business Finance  \n",
       "3          3 hours  2017-05-30T20:07:24Z  Business Finance  \n",
       "4          2 hours  2016-12-13T14:57:18Z  Business Finance  "
      ]
     },
     "metadata": {},
     "output_type": "display_data"
    }
   ],
   "source": [
    "data = pd.read_csv('./data/udemy_courses.csv')\n",
    "display(data.head())"
   ]
  },
  {
   "cell_type": "markdown",
   "metadata": {},
   "source": [
    "# Exploring data"
   ]
  },
  {
   "cell_type": "code",
   "execution_count": 850,
   "metadata": {},
   "outputs": [],
   "source": [
    "from source import helper\n",
    "from source import pipeline\n",
    "imp.reload(helper);\n",
    "imp.reload(pipeline);"
   ]
  },
  {
   "cell_type": "markdown",
   "metadata": {
    "heading_collapsed": true
   },
   "source": [
    "## Initial findings"
   ]
  },
  {
   "cell_type": "markdown",
   "metadata": {
    "hidden": true
   },
   "source": [
    "__Findings__:\n",
    "* The `course_id` field is type of int64. However, the maximum value of this field is equal to 1282064. As a result we can change its type into int32 for saving memory space.\n",
    "* The `is_paid` field might be a Boolean field, which contains only True and False. As a result, we can convert its type into int8 for saving memory space.\n",
    "* Normally, the `price` field is type of int or float. However, in this case, it is type of object. Therefore, we need to have some investigations here.\n",
    "* Three counting fields such as `num_subscribers`, `num_reviews`, and `num_lectures` are type of int. However, their maximum value is different from each other. As a result, we need to change the memory size here.\n",
    "    * `num_subscribers`: int64 -> int32\n",
    "    * `num_reviews`: int64 -> int16\n",
    "    * `num_lectures`: int64 -> int 16\n",
    "* The `level` field might be a categorical variable. We will need to find whether or not it contains unusual data points such as empty string, non-readable string, etc.\n",
    "* Normally, the `content_duration` is type of int or float. However, in this case, its type is object. As a result, we need some investigations to transform the data.\n",
    "* For now, the meaningful data of the `published_timestamp` field might be year. This is because we can use this information to search for which are popular technical topics in a particular year.\n",
    "* The `subject` field might be a categorical variable. We will need to find whether or not it contains unusual data points such as empty string, non-readable string, etc. Also, this data can be use for the evaluation."
   ]
  },
  {
   "cell_type": "code",
   "execution_count": 4,
   "metadata": {
    "hidden": true,
    "scrolled": true
   },
   "outputs": [
    {
     "name": "stdout",
     "output_type": "stream",
     "text": [
      "<class 'pandas.core.frame.DataFrame'>\n",
      "RangeIndex: 3683 entries, 0 to 3682\n",
      "Data columns (total 12 columns):\n",
      " #   Column               Non-Null Count  Dtype \n",
      "---  ------               --------------  ----- \n",
      " 0   course_id            3683 non-null   int64 \n",
      " 1   course_title         3683 non-null   object\n",
      " 2   url                  3683 non-null   object\n",
      " 3   is_paid              3683 non-null   object\n",
      " 4   price                3683 non-null   object\n",
      " 5   num_subscribers      3683 non-null   int64 \n",
      " 6   num_reviews          3683 non-null   int64 \n",
      " 7   num_lectures         3683 non-null   int64 \n",
      " 8   level                3683 non-null   object\n",
      " 9   content_duration     3683 non-null   object\n",
      " 10  published_timestamp  3683 non-null   object\n",
      " 11  subject              3683 non-null   object\n",
      "dtypes: int64(4), object(8)\n",
      "memory usage: 345.4+ KB\n"
     ]
    }
   ],
   "source": [
    "data.info()"
   ]
  },
  {
   "cell_type": "code",
   "execution_count": 5,
   "metadata": {
    "hidden": true
   },
   "outputs": [
    {
     "data": {
      "text/html": [
       "<div>\n",
       "<style scoped>\n",
       "    .dataframe tbody tr th:only-of-type {\n",
       "        vertical-align: middle;\n",
       "    }\n",
       "\n",
       "    .dataframe tbody tr th {\n",
       "        vertical-align: top;\n",
       "    }\n",
       "\n",
       "    .dataframe thead th {\n",
       "        text-align: right;\n",
       "    }\n",
       "</style>\n",
       "<table border=\"1\" class=\"dataframe\">\n",
       "  <thead>\n",
       "    <tr style=\"text-align: right;\">\n",
       "      <th></th>\n",
       "      <th>num_subscribers</th>\n",
       "      <th>num_reviews</th>\n",
       "      <th>num_lectures</th>\n",
       "    </tr>\n",
       "  </thead>\n",
       "  <tbody>\n",
       "    <tr>\n",
       "      <th>count</th>\n",
       "      <td>3683.000000</td>\n",
       "      <td>3683.000000</td>\n",
       "      <td>3683.000000</td>\n",
       "    </tr>\n",
       "    <tr>\n",
       "      <th>mean</th>\n",
       "      <td>3193.371165</td>\n",
       "      <td>156.448004</td>\n",
       "      <td>40.062178</td>\n",
       "    </tr>\n",
       "    <tr>\n",
       "      <th>std</th>\n",
       "      <td>9498.231406</td>\n",
       "      <td>935.078241</td>\n",
       "      <td>50.366788</td>\n",
       "    </tr>\n",
       "    <tr>\n",
       "      <th>min</th>\n",
       "      <td>0.000000</td>\n",
       "      <td>0.000000</td>\n",
       "      <td>0.000000</td>\n",
       "    </tr>\n",
       "    <tr>\n",
       "      <th>25%</th>\n",
       "      <td>110.000000</td>\n",
       "      <td>4.000000</td>\n",
       "      <td>15.000000</td>\n",
       "    </tr>\n",
       "    <tr>\n",
       "      <th>50%</th>\n",
       "      <td>911.000000</td>\n",
       "      <td>18.000000</td>\n",
       "      <td>25.000000</td>\n",
       "    </tr>\n",
       "    <tr>\n",
       "      <th>75%</th>\n",
       "      <td>2537.500000</td>\n",
       "      <td>67.000000</td>\n",
       "      <td>45.000000</td>\n",
       "    </tr>\n",
       "    <tr>\n",
       "      <th>max</th>\n",
       "      <td>268923.000000</td>\n",
       "      <td>27445.000000</td>\n",
       "      <td>779.000000</td>\n",
       "    </tr>\n",
       "  </tbody>\n",
       "</table>\n",
       "</div>"
      ],
      "text/plain": [
       "       num_subscribers   num_reviews  num_lectures\n",
       "count      3683.000000   3683.000000   3683.000000\n",
       "mean       3193.371165    156.448004     40.062178\n",
       "std        9498.231406    935.078241     50.366788\n",
       "min           0.000000      0.000000      0.000000\n",
       "25%         110.000000      4.000000     15.000000\n",
       "50%         911.000000     18.000000     25.000000\n",
       "75%        2537.500000     67.000000     45.000000\n",
       "max      268923.000000  27445.000000    779.000000"
      ]
     },
     "execution_count": 5,
     "metadata": {},
     "output_type": "execute_result"
    }
   ],
   "source": [
    "data[['num_subscribers', 'num_reviews', 'num_lectures']].describe()"
   ]
  },
  {
   "cell_type": "markdown",
   "metadata": {
    "hidden": true
   },
   "source": [
    "__Findings__:\n",
    "* There is not NaN or missing value in the initial data."
   ]
  },
  {
   "cell_type": "code",
   "execution_count": 6,
   "metadata": {
    "hidden": true
   },
   "outputs": [
    {
     "data": {
      "text/plain": [
       "course_id              0\n",
       "course_title           0\n",
       "url                    0\n",
       "is_paid                0\n",
       "price                  0\n",
       "num_subscribers        0\n",
       "num_reviews            0\n",
       "num_lectures           0\n",
       "level                  0\n",
       "content_duration       0\n",
       "published_timestamp    0\n",
       "subject                0\n",
       "dtype: int64"
      ]
     },
     "execution_count": 6,
     "metadata": {},
     "output_type": "execute_result"
    }
   ],
   "source": [
    "helper.check_nan(data)"
   ]
  },
  {
   "cell_type": "markdown",
   "metadata": {
    "heading_collapsed": true
   },
   "source": [
    "## Going deeper into each feature"
   ]
  },
  {
   "cell_type": "markdown",
   "metadata": {
    "hidden": true
   },
   "source": [
    "__course_id feature__:\n",
    "* There are duplicate courses in the data. Therefore, courses that exist more than 2 times need to be merged.\n",
    "* The type of the feature needs to be converted into np.int32"
   ]
  },
  {
   "cell_type": "code",
   "execution_count": 7,
   "metadata": {
    "hidden": true
   },
   "outputs": [],
   "source": [
    "# # Pre-data\n",
    "# print(\"Pre-data:\")\n",
    "# display(helper.describe_freq(data, 'course_id', 2))\n",
    "\n",
    "# # Process\n",
    "# data = helper.merge_duplicate_row(data, 'course_id')\n",
    "# data['course_id'] = data['course_id'].astype(np.int32)\n",
    "\n",
    "# # Post-data\n",
    "# print(\"Post-data:\")\n",
    "# display(helper.describe_freq(data, 'course_id', 2))"
   ]
  },
  {
   "cell_type": "markdown",
   "metadata": {
    "hidden": true
   },
   "source": [
    "__is_paid feature__:\n",
    "* There is unusual value, it needs to be fill by np.nan."
   ]
  },
  {
   "cell_type": "code",
   "execution_count": 8,
   "metadata": {
    "hidden": true
   },
   "outputs": [],
   "source": [
    "# # Pre-data\n",
    "# print(\"Pre-data:\")\n",
    "# display(helper.describe_freq(data, 'is_paid', 1))\n",
    "\n",
    "# # Process\n",
    "# data['is_paid'] = data['is_paid'].apply(lambda x: x.lower()) \\\n",
    "#                                     .apply(lambda x: helper.convert_bool_to_int(x))\n",
    "# data.dropna(subset=['is_paid'], inplace=True)\n",
    "# data['is_paid'] = data['is_paid'].astype(np.int8)\n",
    "\n",
    "# # Post-data\n",
    "# print(\"Post-data:\")\n",
    "# display(helper.describe_freq(data, 'is_paid', 1))\n",
    "# print(\"NaN values: {}\".format(helper.check_nan(data['is_paid'])))"
   ]
  },
  {
   "cell_type": "markdown",
   "metadata": {
    "hidden": true
   },
   "source": [
    "__course_title feature:__\n",
    "* Found that courses whose title has length of less than 3 might be multilingual courses. Therefore, those title need to be replaced by the text in the url feature.\n",
    "\n",
    "__url feature:__\n",
    "* Found that there are urls that contain multi-words without spacing. "
   ]
  },
  {
   "cell_type": "code",
   "execution_count": 9,
   "metadata": {
    "hidden": true,
    "scrolled": true
   },
   "outputs": [],
   "source": [
    "# print(\"Title length: 1\")\n",
    "# display(helper.check_text_length(data, 'course_title', 1).head())\n",
    "# print(\"Title length: 2\")\n",
    "# display(helper.check_text_length(data, 'course_title', 2).head())"
   ]
  },
  {
   "cell_type": "code",
   "execution_count": 10,
   "metadata": {
    "hidden": true
   },
   "outputs": [],
   "source": [
    "# data = helper.convert_url_to_string(data, 'url')\n",
    "# print(\"URL length: 1\")\n",
    "# display(helper.check_text_length(data, 'url', 1).head())"
   ]
  },
  {
   "cell_type": "code",
   "execution_count": 11,
   "metadata": {
    "hidden": true,
    "scrolled": false
   },
   "outputs": [],
   "source": [
    "# helper.check_text_length(pipeline.clean_data(data), 'course_title', 2).head()"
   ]
  },
  {
   "cell_type": "markdown",
   "metadata": {
    "hidden": true
   },
   "source": [
    "__price feature:__\n",
    "* Found that the price feature should be type of integer, but object.\n",
    "* Found that 'Free' is in the price feature. This should set to be 0"
   ]
  },
  {
   "cell_type": "code",
   "execution_count": 32,
   "metadata": {
    "hidden": true
   },
   "outputs": [],
   "source": [
    "# # Pre-data\n",
    "# print(\"Pre-data:\")\n",
    "# display(np.unique(data['price']))\n",
    "\n",
    "# # Process\n",
    "# data = helper.convert_free_price(data, 'price')\n",
    "\n",
    "# # Post-data\n",
    "# print(\"Post-data:\")\n",
    "# display(np.unique(data['price']))"
   ]
  },
  {
   "cell_type": "markdown",
   "metadata": {
    "hidden": true
   },
   "source": [
    "__level feature:__\n",
    "* Found that the level feature contains 4 unique values. These values can be dummied for the further analysis."
   ]
  },
  {
   "cell_type": "code",
   "execution_count": 197,
   "metadata": {
    "hidden": true
   },
   "outputs": [],
   "source": [
    "# display(np.unique(data['level']))"
   ]
  },
  {
   "cell_type": "markdown",
   "metadata": {
    "hidden": true
   },
   "source": [
    "__content_duration feature:__\n",
    "* Found that the there are 4 different categories in this feature.\n",
    "    * '0' indicates there is no course duration. This needs to be removed\n",
    "    * 'hour', 'hours' or 'mins' indicate the course duration calculated by using the time factor.\n",
    "    * 'questions' indicates the course duration calculated by using the solved time factor. Assuming that each question can be solved in 2.5 minutes.\n",
    "* To make the feature has a consistent unit, all observations are converted into hour(s)."
   ]
  },
  {
   "cell_type": "code",
   "execution_count": 78,
   "metadata": {
    "hidden": true
   },
   "outputs": [],
   "source": [
    "# display(np.unique(data['content_duration']))\n",
    "# display(data[data['content_duration'].isin(['218 questions', '24 questions', '82 questions', '0'])])\n",
    "# data['content_duration'] = data['content_duration'].apply(lambda duration: helper.convert_duration(duration))\n",
    "# data['content_duration'] = data['content_duration'].astype(np.float32)\n",
    "# data.dropna(subset=['content_duration'], inplace=True)"
   ]
  },
  {
   "cell_type": "markdown",
   "metadata": {
    "hidden": true
   },
   "source": [
    "__published_timestamp feature:__\n",
    "* Found that all of the courses in this dataset were published from 2011 to 2017. This information can be used for further analysis when trying to match the trending topics in each year. "
   ]
  },
  {
   "cell_type": "code",
   "execution_count": 98,
   "metadata": {
    "hidden": true
   },
   "outputs": [],
   "source": [
    "# display(np.unique(data['published_timestamp'].apply(lambda time: time.split(\"-\")[0])))\n",
    "# data = helper.convert_published_time(data, 'published_timestamp')"
   ]
  },
  {
   "cell_type": "markdown",
   "metadata": {
    "hidden": true
   },
   "source": [
    "__subject feature:__\n",
    "* Found that the subject feature contains 4 unique values. These values can be dummied for the further analysis."
   ]
  },
  {
   "cell_type": "code",
   "execution_count": 196,
   "metadata": {
    "hidden": true
   },
   "outputs": [],
   "source": [
    "# display(np.unique(data['subject']))"
   ]
  },
  {
   "cell_type": "markdown",
   "metadata": {
    "heading_collapsed": true
   },
   "source": [
    "## Run pipeline"
   ]
  },
  {
   "cell_type": "code",
   "execution_count": 620,
   "metadata": {
    "hidden": true
   },
   "outputs": [],
   "source": [
    "data = pipeline.clean_data(data)"
   ]
  },
  {
   "cell_type": "markdown",
   "metadata": {
    "heading_collapsed": true
   },
   "source": [
    "# Finding the definition of popularity"
   ]
  },
  {
   "cell_type": "markdown",
   "metadata": {
    "hidden": true
   },
   "source": [
    "On average, we can see that most of the courses in dataset are low price courses. In addition, most of these courses has a low number of subscribers, a low number of lectures, and a low number of reviews. In order to define the meaning of popularity in this senario, we need to dig into courses that have a high number of subscribers as well as a high number of reviews."
   ]
  },
  {
   "cell_type": "code",
   "execution_count": 171,
   "metadata": {
    "hidden": true
   },
   "outputs": [
    {
     "data": {
      "text/html": [
       "<div>\n",
       "<style scoped>\n",
       "    .dataframe tbody tr th:only-of-type {\n",
       "        vertical-align: middle;\n",
       "    }\n",
       "\n",
       "    .dataframe tbody tr th {\n",
       "        vertical-align: top;\n",
       "    }\n",
       "\n",
       "    .dataframe thead th {\n",
       "        text-align: right;\n",
       "    }\n",
       "</style>\n",
       "<table border=\"1\" class=\"dataframe\">\n",
       "  <thead>\n",
       "    <tr style=\"text-align: right;\">\n",
       "      <th></th>\n",
       "      <th>price</th>\n",
       "      <th>num_subscribers</th>\n",
       "      <th>num_reviews</th>\n",
       "      <th>num_lectures</th>\n",
       "    </tr>\n",
       "  </thead>\n",
       "  <tbody>\n",
       "    <tr>\n",
       "      <th>count</th>\n",
       "      <td>3675.000000</td>\n",
       "      <td>3675.000000</td>\n",
       "      <td>3675.000000</td>\n",
       "      <td>3675.000000</td>\n",
       "    </tr>\n",
       "    <tr>\n",
       "      <th>mean</th>\n",
       "      <td>66.076190</td>\n",
       "      <td>3188.536327</td>\n",
       "      <td>156.247619</td>\n",
       "      <td>40.107483</td>\n",
       "    </tr>\n",
       "    <tr>\n",
       "      <th>std</th>\n",
       "      <td>61.017878</td>\n",
       "      <td>9484.511154</td>\n",
       "      <td>935.806395</td>\n",
       "      <td>50.409554</td>\n",
       "    </tr>\n",
       "    <tr>\n",
       "      <th>min</th>\n",
       "      <td>0.000000</td>\n",
       "      <td>0.000000</td>\n",
       "      <td>0.000000</td>\n",
       "      <td>0.000000</td>\n",
       "    </tr>\n",
       "    <tr>\n",
       "      <th>25%</th>\n",
       "      <td>20.000000</td>\n",
       "      <td>111.500000</td>\n",
       "      <td>4.000000</td>\n",
       "      <td>15.000000</td>\n",
       "    </tr>\n",
       "    <tr>\n",
       "      <th>50%</th>\n",
       "      <td>45.000000</td>\n",
       "      <td>912.000000</td>\n",
       "      <td>18.000000</td>\n",
       "      <td>25.000000</td>\n",
       "    </tr>\n",
       "    <tr>\n",
       "      <th>75%</th>\n",
       "      <td>95.000000</td>\n",
       "      <td>2545.000000</td>\n",
       "      <td>67.000000</td>\n",
       "      <td>46.000000</td>\n",
       "    </tr>\n",
       "    <tr>\n",
       "      <th>max</th>\n",
       "      <td>200.000000</td>\n",
       "      <td>268923.000000</td>\n",
       "      <td>27445.000000</td>\n",
       "      <td>779.000000</td>\n",
       "    </tr>\n",
       "  </tbody>\n",
       "</table>\n",
       "</div>"
      ],
      "text/plain": [
       "             price  num_subscribers   num_reviews  num_lectures\n",
       "count  3675.000000      3675.000000   3675.000000   3675.000000\n",
       "mean     66.076190      3188.536327    156.247619     40.107483\n",
       "std      61.017878      9484.511154    935.806395     50.409554\n",
       "min       0.000000         0.000000      0.000000      0.000000\n",
       "25%      20.000000       111.500000      4.000000     15.000000\n",
       "50%      45.000000       912.000000     18.000000     25.000000\n",
       "75%      95.000000      2545.000000     67.000000     46.000000\n",
       "max     200.000000    268923.000000  27445.000000    779.000000"
      ]
     },
     "execution_count": 171,
     "metadata": {},
     "output_type": "execute_result"
    }
   ],
   "source": [
    "data[['price', 'num_subscribers', 'num_reviews', 'num_lectures']].describe()"
   ]
  },
  {
   "cell_type": "code",
   "execution_count": 174,
   "metadata": {
    "hidden": true
   },
   "outputs": [
    {
     "data": {
      "text/html": [
       "<div>\n",
       "<style scoped>\n",
       "    .dataframe tbody tr th:only-of-type {\n",
       "        vertical-align: middle;\n",
       "    }\n",
       "\n",
       "    .dataframe tbody tr th {\n",
       "        vertical-align: top;\n",
       "    }\n",
       "\n",
       "    .dataframe thead th {\n",
       "        text-align: right;\n",
       "    }\n",
       "</style>\n",
       "<table border=\"1\" class=\"dataframe\">\n",
       "  <thead>\n",
       "    <tr style=\"text-align: right;\">\n",
       "      <th></th>\n",
       "      <th>low_price</th>\n",
       "      <th>high_price</th>\n",
       "    </tr>\n",
       "  </thead>\n",
       "  <tbody>\n",
       "    <tr>\n",
       "      <th>low_num_subscribers</th>\n",
       "      <td>2043</td>\n",
       "      <td>862</td>\n",
       "    </tr>\n",
       "    <tr>\n",
       "      <th>high_num_subscribers</th>\n",
       "      <td>439</td>\n",
       "      <td>331</td>\n",
       "    </tr>\n",
       "  </tbody>\n",
       "</table>\n",
       "</div>"
      ],
      "text/plain": [
       "                      low_price  high_price\n",
       "low_num_subscribers        2043         862\n",
       "high_num_subscribers        439         331"
      ]
     },
     "metadata": {},
     "output_type": "display_data"
    },
    {
     "data": {
      "text/html": [
       "<div>\n",
       "<style scoped>\n",
       "    .dataframe tbody tr th:only-of-type {\n",
       "        vertical-align: middle;\n",
       "    }\n",
       "\n",
       "    .dataframe tbody tr th {\n",
       "        vertical-align: top;\n",
       "    }\n",
       "\n",
       "    .dataframe thead th {\n",
       "        text-align: right;\n",
       "    }\n",
       "</style>\n",
       "<table border=\"1\" class=\"dataframe\">\n",
       "  <thead>\n",
       "    <tr style=\"text-align: right;\">\n",
       "      <th></th>\n",
       "      <th>low_price</th>\n",
       "      <th>high_price</th>\n",
       "    </tr>\n",
       "  </thead>\n",
       "  <tbody>\n",
       "    <tr>\n",
       "      <th>low_num_lectures</th>\n",
       "      <td>1966</td>\n",
       "      <td>639</td>\n",
       "    </tr>\n",
       "    <tr>\n",
       "      <th>high_num_lectures</th>\n",
       "      <td>516</td>\n",
       "      <td>554</td>\n",
       "    </tr>\n",
       "  </tbody>\n",
       "</table>\n",
       "</div>"
      ],
      "text/plain": [
       "                   low_price  high_price\n",
       "low_num_lectures        1966         639\n",
       "high_num_lectures        516         554"
      ]
     },
     "metadata": {},
     "output_type": "display_data"
    },
    {
     "data": {
      "text/html": [
       "<div>\n",
       "<style scoped>\n",
       "    .dataframe tbody tr th:only-of-type {\n",
       "        vertical-align: middle;\n",
       "    }\n",
       "\n",
       "    .dataframe tbody tr th {\n",
       "        vertical-align: top;\n",
       "    }\n",
       "\n",
       "    .dataframe thead th {\n",
       "        text-align: right;\n",
       "    }\n",
       "</style>\n",
       "<table border=\"1\" class=\"dataframe\">\n",
       "  <thead>\n",
       "    <tr style=\"text-align: right;\">\n",
       "      <th></th>\n",
       "      <th>low_price</th>\n",
       "      <th>high_price</th>\n",
       "    </tr>\n",
       "  </thead>\n",
       "  <tbody>\n",
       "    <tr>\n",
       "      <th>low_num_reviews</th>\n",
       "      <td>2217</td>\n",
       "      <td>952</td>\n",
       "    </tr>\n",
       "    <tr>\n",
       "      <th>high_num_reviews</th>\n",
       "      <td>265</td>\n",
       "      <td>241</td>\n",
       "    </tr>\n",
       "  </tbody>\n",
       "</table>\n",
       "</div>"
      ],
      "text/plain": [
       "                  low_price  high_price\n",
       "low_num_reviews        2217         952\n",
       "high_num_reviews        265         241"
      ]
     },
     "metadata": {},
     "output_type": "display_data"
    }
   ],
   "source": [
    "display(helper.describe_crosstab(data, 'num_subscribers', 'price'))\n",
    "display(helper.describe_crosstab(data, 'num_lectures', 'price'))\n",
    "display(helper.describe_crosstab(data, 'num_reviews', 'price'))"
   ]
  },
  {
   "cell_type": "markdown",
   "metadata": {
    "hidden": true
   },
   "source": [
    "On average, courses that have a high number of subscribers are priced roughly $75 and have roughly 12270 subscribers as well as rouhgly 622 reviews. In addition, within 770 courses, there are 220 free courses. Furthermore, there are 194 courses that have more than 12271 subscribers. In these 194 courses, there are 92 courses that have more than 622 reviews."
   ]
  },
  {
   "cell_type": "code",
   "execution_count": 200,
   "metadata": {
    "hidden": true
   },
   "outputs": [
    {
     "data": {
      "text/html": [
       "<div>\n",
       "<style scoped>\n",
       "    .dataframe tbody tr th:only-of-type {\n",
       "        vertical-align: middle;\n",
       "    }\n",
       "\n",
       "    .dataframe tbody tr th {\n",
       "        vertical-align: top;\n",
       "    }\n",
       "\n",
       "    .dataframe thead th {\n",
       "        text-align: right;\n",
       "    }\n",
       "</style>\n",
       "<table border=\"1\" class=\"dataframe\">\n",
       "  <thead>\n",
       "    <tr style=\"text-align: right;\">\n",
       "      <th></th>\n",
       "      <th>price</th>\n",
       "      <th>num_subscribers</th>\n",
       "      <th>num_reviews</th>\n",
       "    </tr>\n",
       "  </thead>\n",
       "  <tbody>\n",
       "    <tr>\n",
       "      <th>count</th>\n",
       "      <td>770.000000</td>\n",
       "      <td>770.000000</td>\n",
       "      <td>770.000000</td>\n",
       "    </tr>\n",
       "    <tr>\n",
       "      <th>mean</th>\n",
       "      <td>75.006494</td>\n",
       "      <td>12270.790909</td>\n",
       "      <td>622.509091</td>\n",
       "    </tr>\n",
       "    <tr>\n",
       "      <th>std</th>\n",
       "      <td>74.263396</td>\n",
       "      <td>17961.793251</td>\n",
       "      <td>1973.194626</td>\n",
       "    </tr>\n",
       "    <tr>\n",
       "      <th>min</th>\n",
       "      <td>0.000000</td>\n",
       "      <td>3190.000000</td>\n",
       "      <td>0.000000</td>\n",
       "    </tr>\n",
       "    <tr>\n",
       "      <th>25%</th>\n",
       "      <td>0.000000</td>\n",
       "      <td>4678.000000</td>\n",
       "      <td>57.000000</td>\n",
       "    </tr>\n",
       "    <tr>\n",
       "      <th>50%</th>\n",
       "      <td>50.000000</td>\n",
       "      <td>7017.500000</td>\n",
       "      <td>147.000000</td>\n",
       "    </tr>\n",
       "    <tr>\n",
       "      <th>75%</th>\n",
       "      <td>145.000000</td>\n",
       "      <td>12319.250000</td>\n",
       "      <td>432.250000</td>\n",
       "    </tr>\n",
       "    <tr>\n",
       "      <th>max</th>\n",
       "      <td>200.000000</td>\n",
       "      <td>268923.000000</td>\n",
       "      <td>27445.000000</td>\n",
       "    </tr>\n",
       "  </tbody>\n",
       "</table>\n",
       "</div>"
      ],
      "text/plain": [
       "            price  num_subscribers   num_reviews\n",
       "count  770.000000       770.000000    770.000000\n",
       "mean    75.006494     12270.790909    622.509091\n",
       "std     74.263396     17961.793251   1973.194626\n",
       "min      0.000000      3190.000000      0.000000\n",
       "25%      0.000000      4678.000000     57.000000\n",
       "50%     50.000000      7017.500000    147.000000\n",
       "75%    145.000000     12319.250000    432.250000\n",
       "max    200.000000    268923.000000  27445.000000"
      ]
     },
     "metadata": {},
     "output_type": "display_data"
    },
    {
     "name": "stdout",
     "output_type": "stream",
     "text": [
      "Number of free courses: 202\n"
     ]
    },
    {
     "data": {
      "text/html": [
       "<div>\n",
       "<style scoped>\n",
       "    .dataframe tbody tr th:only-of-type {\n",
       "        vertical-align: middle;\n",
       "    }\n",
       "\n",
       "    .dataframe tbody tr th {\n",
       "        vertical-align: top;\n",
       "    }\n",
       "\n",
       "    .dataframe thead th {\n",
       "        text-align: right;\n",
       "    }\n",
       "</style>\n",
       "<table border=\"1\" class=\"dataframe\">\n",
       "  <thead>\n",
       "    <tr style=\"text-align: right;\">\n",
       "      <th></th>\n",
       "      <th>low_price</th>\n",
       "      <th>high_price</th>\n",
       "    </tr>\n",
       "  </thead>\n",
       "  <tbody>\n",
       "    <tr>\n",
       "      <th>low_num_subscribers</th>\n",
       "      <td>357</td>\n",
       "      <td>219</td>\n",
       "    </tr>\n",
       "    <tr>\n",
       "      <th>high_num_subscribers</th>\n",
       "      <td>111</td>\n",
       "      <td>83</td>\n",
       "    </tr>\n",
       "  </tbody>\n",
       "</table>\n",
       "</div>"
      ],
      "text/plain": [
       "                      low_price  high_price\n",
       "low_num_subscribers         357         219\n",
       "high_num_subscribers        111          83"
      ]
     },
     "metadata": {},
     "output_type": "display_data"
    },
    {
     "data": {
      "text/html": [
       "<div>\n",
       "<style scoped>\n",
       "    .dataframe tbody tr th:only-of-type {\n",
       "        vertical-align: middle;\n",
       "    }\n",
       "\n",
       "    .dataframe tbody tr th {\n",
       "        vertical-align: top;\n",
       "    }\n",
       "\n",
       "    .dataframe thead th {\n",
       "        text-align: right;\n",
       "    }\n",
       "</style>\n",
       "<table border=\"1\" class=\"dataframe\">\n",
       "  <thead>\n",
       "    <tr style=\"text-align: right;\">\n",
       "      <th></th>\n",
       "      <th>low_num_reviews</th>\n",
       "      <th>high_num_reviews</th>\n",
       "    </tr>\n",
       "  </thead>\n",
       "  <tbody>\n",
       "    <tr>\n",
       "      <th>low_num_subscribers</th>\n",
       "      <td>521</td>\n",
       "      <td>55</td>\n",
       "    </tr>\n",
       "    <tr>\n",
       "      <th>high_num_subscribers</th>\n",
       "      <td>102</td>\n",
       "      <td>92</td>\n",
       "    </tr>\n",
       "  </tbody>\n",
       "</table>\n",
       "</div>"
      ],
      "text/plain": [
       "                      low_num_reviews  high_num_reviews\n",
       "low_num_subscribers               521                55\n",
       "high_num_subscribers              102                92"
      ]
     },
     "metadata": {},
     "output_type": "display_data"
    }
   ],
   "source": [
    "high_sub = helper.get_rows_by_mean(data, 'num_subscribers', option=\"more\")\n",
    "display(high_sub[['price', 'num_subscribers', 'num_reviews']].describe())\n",
    "print(\"Number of free courses: {}\".format(len(high_sub[high_sub['price'] == 0])))\n",
    "display(helper.describe_crosstab(high_sub, 'num_subscribers', 'price'))\n",
    "display(helper.describe_crosstab(high_sub, 'num_subscribers', 'num_reviews'))"
   ]
  },
  {
   "cell_type": "markdown",
   "metadata": {
    "hidden": true
   },
   "source": [
    "On average, courses that cost less than 75 USD have more subscribers than those that cost more than 75 USD. In addition, courses that have a high number of reviews have more subscribers than those that have a low number of reviews."
   ]
  },
  {
   "cell_type": "code",
   "execution_count": 223,
   "metadata": {
    "hidden": true
   },
   "outputs": [
    {
     "name": "stdout",
     "output_type": "stream",
     "text": [
      "Total subscribers of high_sub_low_price: 3495688\n",
      "Total subscribers of high_sub_high_price: 2357419\n",
      "\n",
      "Total subscribers of high_sub_low_reviews: 2014723\n",
      "Total subscribers of high_sub_high_reviews: 3838384\n"
     ]
    }
   ],
   "source": [
    "# Get the mean of a number of subscribers in the high_sub data\n",
    "mean_hs_sub =  np.mean(high_sub['num_subscribers'])\n",
    "\n",
    "# Get the mean price in the high_sub data\n",
    "mean_hs_price = np.mean(high_sub['price'])\n",
    "\n",
    "# Get the mean of a number of reviews in the high_sub data\n",
    "mean_hs_reviews = np.mean(high_sub['num_reviews'])\n",
    "\n",
    "# Get a total number of subscribers in 2 different segments (in terms of price)\n",
    "high_sub_low_price = high_sub[(high_sub['num_subscribers'] > mean_hs_sub) & \n",
    "                              (high_sub['price'] < mean_hs_price)]['num_subscribers']\n",
    "high_sub_high_price = high_sub[(high_sub['num_subscribers'] > mean_hs_sub) & \n",
    "                               (high_sub['price'] > mean_hs_price)]['num_subscribers']\n",
    "\n",
    "print(\"Total subscribers of high_sub_low_price: {}\".format(np.sum(high_sub_low_price)))\n",
    "print(\"Total subscribers of high_sub_high_price: {}\\n\".format(np.sum(high_sub_high_price)))\n",
    "\n",
    "# Get a total number of subscribers in 2 different segments (in terms of reviews)\n",
    "high_sub_low_reviews = high_sub[(high_sub['num_subscribers'] > mean_hs_sub) & \n",
    "                              (high_sub['num_reviews'] < mean_hs_reviews)]['num_subscribers']\n",
    "high_sub_high_reviews = high_sub[(high_sub['num_subscribers'] > mean_hs_sub) & \n",
    "                               (high_sub['num_reviews'] > mean_hs_reviews)]['num_subscribers']\n",
    "\n",
    "print(\"Total subscribers of high_sub_low_reviews: {}\".format(np.sum(high_sub_low_reviews)))\n",
    "print(\"Total subscribers of high_sub_high_reviews: {}\".format(np.sum(high_sub_high_reviews)))"
   ]
  },
  {
   "cell_type": "markdown",
   "metadata": {
    "hidden": true
   },
   "source": [
    "__Conclusion:__\n",
    "\n",
    "In this dataset, there are three characteristics which are common in most of the popular courses. \n",
    "1. Popular courses tend to have more than a high number of subscribers - on average, that is more than 12700 subscribers.\n",
    "2. Popular courses tend to have a high number of reviews.\n",
    "3. Popular courses tend to cost lower than the average price."
   ]
  },
  {
   "cell_type": "markdown",
   "metadata": {},
   "source": [
    "# Finding popular topics"
   ]
  },
  {
   "cell_type": "markdown",
   "metadata": {},
   "source": [
    "In this section, we will preprocess the text in the `course_title` into topics which are defined as noun phrases or consecutive nouns in the text. Then, we will do some analytics for finding popular topics. Furthermore, we will find popular topics for each subject.\n",
    "\n",
    "The diagram below shows the entire process of preprocessing the text as well as the proces of extracting topics from text.\n",
    "\n",
    "<img src=\"./images/preprocess_text.png\">"
   ]
  },
  {
   "cell_type": "code",
   "execution_count": 851,
   "metadata": {},
   "outputs": [],
   "source": [
    "data = helper.preprocess_text(data, 'course_title', 'topics')"
   ]
  },
  {
   "cell_type": "code",
   "execution_count": 852,
   "metadata": {
    "scrolled": true
   },
   "outputs": [
    {
     "name": "stdout",
     "output_type": "stream",
     "text": [
      "Ultimate Investment Banking Course\n",
      "--> ultimate investment, banking\n",
      "\n",
      "Complete GST Course & Certification - Grow Your CA Practice\n",
      "--> gst certification, grow, practice\n",
      "\n",
      "Financial Modeling for Business Analysts and Consultants\n",
      "--> modeling financial, business consultants analysts\n",
      "\n",
      "Beginner to Pro - Financial Analysis in Excel 2017\n",
      "--> analysis financial, excel\n",
      "\n",
      "How To Maximize Your Profits Trading Options\n",
      "--> options trading profits\n",
      "\n",
      "Trading Penny Stocks: A Guide for All Levels In 2017\n",
      "--> stocks penny trading\n",
      "\n",
      "Investing And Trading For Beginners: Mastering Price Charts\n",
      "--> trading mastering price charts\n",
      "\n",
      "Trading Stock Chart Patterns For Immediate, Explosive Gains\n",
      "--> chart trading stock patterns, gains explosive\n",
      "\n",
      "Options Trading 3 : Advanced Stock Profit and Success Method\n",
      "--> options, stock advanced, success profit method\n",
      "\n",
      "The Only Investment Strategy You Need For Your Retirement\n",
      "--> strategy investment, retirement\n",
      "\n",
      "Forex Trading Secrets of the Pros With Amazon's AWS\n",
      "--> trading forex, secrets, amazons aws\n",
      "\n",
      "Trading Options With Money Flow\n",
      "--> options flow trading money\n",
      "\n",
      "Financial Management Risk and Return For Securities\n",
      "--> management financial, risk return securities\n",
      "\n",
      "Forex Trading Course: Work Smarter Not Harder Proven Results\n",
      "--> trading forex, work, proven results\n",
      "\n",
      "Python Algo Trading: Sentiment Trading with News\n",
      "--> trading news python algo sentiment\n",
      "\n",
      "Short Selling: Learn To Sell Stocks Before The Fall\n",
      "--> short selling, stocks sell\n",
      "\n",
      "Basic Technical Analysis: Learn the structure of the market\n",
      "--> technical analysis, market structure\n",
      "\n",
      "The Complete Chart Pattern Trading Course: A Proven Approach\n",
      "--> chart pattern trading, approach\n",
      "\n",
      "7 Deadly Mistakes of Investing that Will Slash Your Profits!\n",
      "--> mistakes, slash profits\n",
      "\n",
      "Financial Statements Made Easy\n",
      "--> statements financial\n",
      "\n",
      "Winning Forex Trading with Live Forex Trading Examples\n",
      "--> trading forex, live forex, trading examples\n",
      "\n",
      "Forex Traders - Create Your First Trading Robot. No Coding!\n",
      "--> traders forex, robot\n",
      "\n",
      "Create A Business From Home Trading Stocks Today In 2017\n",
      "--> stocks business trading home today\n",
      "\n",
      "Introduction to Accounting : Mastering Financial Statements\n",
      "--> accounting introduction, statements financial\n",
      "\n",
      "The Complete Ethereum Course: Get .01 Ether In Your Wallet\n",
      "--> ethereum, wallet\n",
      "\n",
      "Beginner to Pro in PowerPoint: Complete PowerPoint Training\n",
      "--> powerpoint training\n",
      "\n",
      "Investing 101: The Complete Online Investing Course\n",
      "--> \n",
      "\n",
      "Create Your Own Hedge Fund: Trade Stocks Like A Fund Manager\n",
      "--> hedge trade fund stocks, manager fund\n",
      "\n",
      "Learn MQL5: Build an 8-Currency Hedging Robot (MetaTrader 5)\n",
      "--> mql5, metatrader robot\n",
      "\n",
      "Forex Trading: Your Complete Guide to Get Started Like a Pro\n",
      "--> trading forex, guide\n",
      "\n",
      "Python Algo Stock Trading: Automate Your Trading!\n",
      "--> python, algo stock, automate trading\n",
      "\n",
      "THE Forex Robot: Incredible ROI (Robot Included)\n",
      "--> forex robot, roi incredible, robot\n",
      "\n",
      "The Complete Bitcoin Course: Get .001 Bitcoin In Your Wallet\n",
      "--> bitcoin, wallet bitcoin\n",
      "\n",
      "Mastering High Probability Iron Condor Options Trading\n",
      "--> high probability, options trading condor iron\n",
      "\n",
      "The Complete Short Course on Ethereum\n",
      "--> ethereum short\n",
      "\n",
      "Options Trading Stocks: Proven Toolbox For Financial Success\n",
      "--> options, stocks, success financial\n",
      "\n",
      "Forex Trading A-Z™ - With LIVE Examples of Forex Trading\n",
      "--> trading forex, az™, live examples, trading\n",
      "\n",
      "Introduction to Finance, Accounting, Modeling and Valuation\n",
      "--> finance accounting introduction, valuation\n",
      "\n",
      "Beginner to Pro in Excel: Financial Modeling and Valuation\n",
      "--> modeling financial, valuation\n",
      "\n",
      "The Complete Investment Banking Course 2017\n",
      "--> investment banking\n",
      "\n"
     ]
    }
   ],
   "source": [
    "for title, topics in data[:40:][['course_title', 'topics']].values:\n",
    "    print(title)\n",
    "    print(\"--> {}\\n\".format(topics))"
   ]
  },
  {
   "cell_type": "code",
   "execution_count": 853,
   "metadata": {},
   "outputs": [],
   "source": [
    "def plot_freq(data, phrase_len, by):\n",
    "    # Get the cout\n",
    "    res = helper.get_top_topics(data, columns=[\"topics\"], phrase_len=phrase_len, top=10, by=by)\n",
    "    \n",
    "    x = [val[0] for val in res]\n",
    "    y = [val[1] for val in res]\n",
    "    ind = np.arange(len(res))\n",
    "    width = 0.75\n",
    "\n",
    "    plt.figure(figsize=(12, 8))\n",
    "    plt.barh(ind, y, width)\n",
    "    plt.yticks(ind + width/15, labels=x, fontsize=12)\n",
    "    for i, v in enumerate(y):\n",
    "        plt.text(v + 0.5, i - 0.1, str(v), fontsize=14)\n",
    "    plt.xlabel(\"Topic frequency\", fontsize=16)\n",
    "    \n",
    "    title = \"Top-10 {}-word(s) topics by \".format(phrase_len)\n",
    "    if by == \"freq\":\n",
    "        title += \"topic frequency\"\n",
    "    elif by == \"sub\":\n",
    "        title += \"subscribers\"\n",
    "    elif by == \"reviews\":\n",
    "        title += \"reviews\"\n",
    "    plt.title(title, fontsize=16)\n",
    "    \n",
    "    plt.show();"
   ]
  },
  {
   "cell_type": "code",
   "execution_count": 854,
   "metadata": {},
   "outputs": [
    {
     "data": {
      "image/png": "[encoded data removed]",
      "text/plain": [
       "<Figure size 864x576 with 1 Axes>"
      ]
     },
     "metadata": {
      "needs_background": "light"
     },
     "output_type": "display_data"
    },
    {
     "data": {
      "image/png": "[encoded data removed]",
      "text/plain": [
       "<Figure size 864x576 with 1 Axes>"
      ]
     },
     "metadata": {
      "needs_background": "light"
     },
     "output_type": "display_data"
    }
   ],
   "source": [
    "plot_freq(data, 1, 'freq')\n",
    "plot_freq(data, 2, 'freq')"
   ]
  },
  {
   "cell_type": "markdown",
   "metadata": {},
   "source": [
    "With top-10 1-word topics (by frequency), it might be hard to define which topics were taught the most. This is because they varied around 4 main subjects such as business finance, graphic design, musical instruments, and web development.\n",
    "\n",
    "With top-10 2-word topics (by frequency), we can see that topics related to business finance were taught the most, following by topics related to web development, design, and musical instruments."
   ]
  },
  {
   "cell_type": "code",
   "execution_count": null,
   "metadata": {},
   "outputs": [],
   "source": []
  },
  {
   "cell_type": "code",
   "execution_count": null,
   "metadata": {},
   "outputs": [],
   "source": []
  },
  {
   "cell_type": "code",
   "execution_count": null,
   "metadata": {},
   "outputs": [],
   "source": []
  },
  {
   "cell_type": "code",
   "execution_count": null,
   "metadata": {},
   "outputs": [],
   "source": []
  },
  {
   "cell_type": "code",
   "execution_count": null,
   "metadata": {},
   "outputs": [],
   "source": []
  },
  {
   "cell_type": "code",
   "execution_count": null,
   "metadata": {},
   "outputs": [],
   "source": []
  }
 ],
 "metadata": {
  "kernelspec": {
   "display_name": "Python 3",
   "language": "python",
   "name": "python3"
  },
  "language_info": {
   "codemirror_mode": {
    "name": "ipython",
    "version": 3
   },
   "file_extension": ".py",
   "mimetype": "text/x-python",
   "name": "python",
   "nbconvert_exporter": "python",
   "pygments_lexer": "ipython3",
   "version": "3.7.3"
  },
  "latex_envs": {
   "LaTeX_envs_menu_present": true,
   "autoclose": false,
   "autocomplete": true,
   "bibliofile": "biblio.bib",
   "cite_by": "apalike",
   "current_citInitial": 1,
   "eqLabelWithNumbers": true,
   "eqNumInitial": 1,
   "hotkeys": {
    "equation": "Ctrl-E",
    "itemize": "Ctrl-I"
   },
   "labels_anchors": false,
   "latex_user_defs": false,
   "report_style_numbering": false,
   "user_envs_cfg": false
  },
  "toc": {
   "base_numbering": 1,
   "nav_menu": {},
   "number_sections": true,
   "sideBar": true,
   "skip_h1_title": false,
   "title_cell": "Table of Contents",
   "title_sidebar": "Contents",
   "toc_cell": false,
   "toc_position": {},
   "toc_section_display": true,
   "toc_window_display": false
  }
 },
 "nbformat": 4,
 "nbformat_minor": 4
}
